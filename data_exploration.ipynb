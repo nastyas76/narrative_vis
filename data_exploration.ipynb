{
 "cells": [
  {
   "cell_type": "code",
   "execution_count": null,
   "metadata": {},
   "outputs": [],
   "source": [
    "import pandas as pd\n",
    "import seaborn as sns"
   ]
  },
  {
   "cell_type": "code",
   "execution_count": null,
   "metadata": {},
   "outputs": [],
   "source": [
    "df = pd.read_csv('world-data-2023.csv')\n",
    "df"
   ]
  },
  {
   "cell_type": "code",
   "execution_count": null,
   "metadata": {},
   "outputs": [],
   "source": [
    "df.columns"
   ]
  },
  {
   "cell_type": "code",
   "execution_count": null,
   "metadata": {},
   "outputs": [],
   "source": [
    "obj_list = [\n",
    " 'Density\\n(P/Km2)',\n",
    " 'Agricultural Land( %)',\n",
    " 'Land Area(Km2)',\n",
    " 'Armed Forces size',\n",
    " 'Co2-Emissions',\n",
    " 'Forested Area (%)',\n",
    " 'Gasoline Price',\n",
    " 'GDP',\n",
    " 'Gross primary education enrollment (%)',\n",
    " 'Gross tertiary education enrollment (%)',\n",
    " 'Minimum wage',\n",
    " 'Out of pocket health expenditure',\n",
    " 'Population',\n",
    " 'Population: Labor force participation (%)',\n",
    " 'Tax revenue (%)',\n",
    " 'Total tax rate',\n",
    " 'Unemployment rate',\n",
    " 'Urban_population']"
   ]
  },
  {
   "cell_type": "code",
   "execution_count": null,
   "metadata": {},
   "outputs": [],
   "source": [
    "df.replace(',','', regex=True, inplace=True)"
   ]
  },
  {
   "cell_type": "code",
   "execution_count": null,
   "metadata": {},
   "outputs": [],
   "source": [
    "for col in obj_list:\n",
    "    print(col)\n",
    "    df[col] = df[col].str.strip(\"$\").str.rstrip(\"%\").astype('float')"
   ]
  },
  {
   "cell_type": "code",
   "execution_count": null,
   "metadata": {},
   "outputs": [],
   "source": [
    "df.to_csv(\"world-data-23-adjusted.csv\", index=False)"
   ]
  },
  {
   "cell_type": "code",
   "execution_count": null,
   "metadata": {},
   "outputs": [],
   "source": [
    "top_countries = df.copy()\n",
    "top_countries = top_countries.sort_values(\"GDP\", ascending=False)\n",
    "top_countries = top_countries[:20]\n",
    "top_countries"
   ]
  },
  {
   "cell_type": "code",
   "execution_count": null,
   "metadata": {},
   "outputs": [],
   "source": [
    "sns.scatterplot(x=top_countries[\"Co2-Emissions\"], y=top_countries[\"Life expectancy\"], size=top_countries[\"Country\"],hue=top_countries['Country'])"
   ]
  },
  {
   "cell_type": "code",
   "execution_count": null,
   "metadata": {},
   "outputs": [],
   "source": [
    "sns.scatterplot(x=top_countries[\"Out of pocket health expenditure\"], y=top_countries[\"Life expectancy\"], size=top_countries[\"Country\"], hue=top_countries['Country'])"
   ]
  },
  {
   "cell_type": "code",
   "execution_count": null,
   "metadata": {},
   "outputs": [],
   "source": [
    "sns.scatterplot(x=top_countries[\"Urban_population\"], y=top_countries[\"Life expectancy\"], size=top_countries[\"Country\"], hue=top_countries['Country'])"
   ]
  }
 ],
 "metadata": {
  "kernelspec": {
   "display_name": "Python 3",
   "language": "python",
   "name": "python3"
  },
  "language_info": {
   "codemirror_mode": {
    "name": "ipython",
    "version": 3
   },
   "file_extension": ".py",
   "mimetype": "text/x-python",
   "name": "python",
   "nbconvert_exporter": "python",
   "pygments_lexer": "ipython3",
   "version": "3.8.5"
  }
 },
 "nbformat": 4,
 "nbformat_minor": 4
}
